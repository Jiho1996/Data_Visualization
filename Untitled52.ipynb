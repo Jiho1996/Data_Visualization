{
 "cells": [
  {
   "cell_type": "code",
   "execution_count": 12,
   "metadata": {},
   "outputs": [
    {
     "name": "stdout",
     "output_type": "stream",
     "text": [
      "[92. 82. 72. 62.]\n"
     ]
    }
   ],
   "source": [
    "#넘파이\n",
    "\n",
    "import numpy as np\n",
    "\n",
    "x = np.arange(1,20,3) # 끝수 포함 안함.\n",
    "x +=10 # 각 항에 + 10\n",
    "x\n",
    "\n",
    "---------------------------------------\n",
    "중간 = [ 90, 80, 70, 60]\n",
    "기말 = [80, 70, 60, 50]\n",
    "\n",
    "mid = np.array(중간)\n",
    "fin = np.array(기말)\n",
    "\n",
    "score = (mid+fin)/2 +7 #평균 +7가산점\n",
    "print(score)\n",
    "---------------------------------------\n",
    "\n",
    "d = [1,2,3,4,5]\n",
    "d   # 실행\n",
    "\n",
    "arr = np.array(d)  #1차원 행렬 array로 변환\n",
    "arr #실행\n",
    "----------------------------------------\n",
    "a = np.linspace(2,3,3) # 2부터 3을 3등분 끝수포함\n",
    "a #출력\n",
    "----------------------------------------\n",
    "d = np.random.normal(170,10,30)    # normal은 정규분포고, 괄호안은 순서대로 평균, 분산, 값개수\n",
    "sum = np.sum(d)     #합\n",
    "mean = np.mean(d)   #평균\n",
    "var = np.var(d)     #분산\n",
    "std = np.std(d)     #편차\n",
    "\n",
    "print('%10.2f' %mean) #출력\n",
    "-----------------------------------------\n",
    "#방정식 그래프 그리기 y=2x +1 (0,1)(1,3)(2,5)(3,7)\n",
    "import numpy as np\n",
    "import matplotlib.pyplot as plt\n",
    "xlist = [0,1,2,3]\n",
    "ylist=[1,3,5,7]\n",
    "plt.plot(xlist,ylist)\n",
    "\n",
    "\n"
   ]
  },
  {
   "cell_type": "code",
   "execution_count": null,
   "metadata": {},
   "outputs": [],
   "source": []
  }
 ],
 "metadata": {
  "kernelspec": {
   "display_name": "Python 3",
   "language": "python",
   "name": "python3"
  },
  "language_info": {
   "codemirror_mode": {
    "name": "ipython",
    "version": 3
   },
   "file_extension": ".py",
   "mimetype": "text/x-python",
   "name": "python",
   "nbconvert_exporter": "python",
   "pygments_lexer": "ipython3",
   "version": "3.7.6"
  }
 },
 "nbformat": 4,
 "nbformat_minor": 4
}
