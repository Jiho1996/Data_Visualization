{
 "cells": [
  {
   "cell_type": "code",
   "execution_count": null,
   "metadata": {},
   "outputs": [],
   "source": [
    "# 문자열 (String) 처리\n",
    "\n",
    "word = '''Hello Python, \n",
    "My name is Gildong\n",
    "Nice to meet you.'''\n",
    "                                   # '''을 붙여야 엔터를 해도 한 문자열 처리가 된다.\n",
    "\n",
    "t1 =\" Hello Python \"\n",
    "t2 = t1.strip()              # 양끝 공백제거 , lstrip은 왼쪽공백제거, rstrip 오른쪽공백제거\n",
    "t1 = t1.replace(\" \",\"\")      # 글내의 모든 공백 제거\n",
    "small = text.lower()         # 소문자 변환\n",
    "large = text.upper()         # 대문자 변환\n",
    "cap = text.capitalize()      # 맨첫글자만 대문자 변환\n",
    "\n",
    "\n",
    "#문자열 인덱싱, 슬라이싱\n",
    "\n",
    "a = \"HELLO PYTHON\"\n",
    "a[0:5] >> HELLO         #끝자리(5) 제외"
   ]
  }
 ],
 "metadata": {
  "kernelspec": {
   "display_name": "Python 3",
   "language": "python",
   "name": "python3"
  },
  "language_info": {
   "codemirror_mode": {
    "name": "ipython",
    "version": 3
   },
   "file_extension": ".py",
   "mimetype": "text/x-python",
   "name": "python",
   "nbconvert_exporter": "python",
   "pygments_lexer": "ipython3",
   "version": "3.7.6"
  }
 },
 "nbformat": 4,
 "nbformat_minor": 4
}
