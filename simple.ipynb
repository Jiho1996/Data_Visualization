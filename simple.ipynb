{
 "cells": [
  {
   "cell_type": "code",
   "execution_count": 48,
   "metadata": {},
   "outputs": [
    {
     "name": "stdout",
     "output_type": "stream",
     "text": [
      "찾고자 하는 단어는? way\n",
      "찾는 단어 위치 : 9 번째\n"
     ]
    }
   ],
   "source": [
    "str = \"Where there is a will, there is a way\"\n",
    "a= 0\n",
    "array = [[\"\"] for i in range(10)]\n",
    "array[1] = str[0:5]\n",
    "array[2] = str[6:11]\n",
    "array[3] = str[12:14]\n",
    "array[4]= str[15]\n",
    "array[5] = str[17:21]\n",
    "array[6] = str[23:28]\n",
    "array[7]= str[29:31]\n",
    "array[8] = str[32]\n",
    "array[9] = str[34:37]\n",
    "\n",
    "word = input(\"찾고자 하는 단어는? \")\n",
    "\n",
    "for i in range(1,10) :\n",
    "    if array[i] == word :\n",
    "        print(\"찾는 단어 위치 :\", i ,\"번째\")\n",
    "    else : a= a+i \n",
    "if a == 45 :\n",
    "    print(\"찾는 단어 없음!\")\n",
    "        \n",
    "    \n",
    "\n",
    "\n",
    " \n",
    "    \n",
    "    \n",
    "        "
   ]
  }
 ],
 "metadata": {
  "kernelspec": {
   "display_name": "Python 3",
   "language": "python",
   "name": "python3"
  },
  "language_info": {
   "codemirror_mode": {
    "name": "ipython",
    "version": 3
   },
   "file_extension": ".py",
   "mimetype": "text/x-python",
   "name": "python",
   "nbconvert_exporter": "python",
   "pygments_lexer": "ipython3",
   "version": "3.7.6"
  }
 },
 "nbformat": 4,
 "nbformat_minor": 4
}
